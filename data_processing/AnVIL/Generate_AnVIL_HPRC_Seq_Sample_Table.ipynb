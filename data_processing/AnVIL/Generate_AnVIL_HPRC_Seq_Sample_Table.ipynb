{
 "cells": [
  {
   "cell_type": "markdown",
   "metadata": {},
   "source": [
    "# Update AnVIL_HPRC *sample* Data Table<a class=\"tocSkip\">\n",
    "\n",
    "**This notebook automatically reads in data stored in the AnVIL_HPRC workspace and generates a data table with the relevant sequencing information**\n",
    "\n",
    "**Note that this notebook requires the following inputs**\n",
    "1. Pedigree file: maps child ID to maternal and paternal IDs. Also used to pull the sample ID from the file key.\n",
    "\n",
    "**Below are the steps taken in this notebook:**\n",
    "1. Import Statements & Global Variable Definitions\n",
    "2. Define Functions\n",
    "3. Read In Input Files\n",
    "4. Loop Through Samples & Compile Data\n",
    "5. Write data frame to data table"
   ]
  },
  {
   "cell_type": "markdown",
   "metadata": {},
   "source": [
    "# Import Statements & Global Variable Definitions"
   ]
  },
  {
   "cell_type": "markdown",
   "metadata": {},
   "source": [
    "## Import Statements"
   ]
  },
  {
   "cell_type": "code",
   "execution_count": 7,
   "metadata": {},
   "outputs": [],
   "source": [
    "%%capture\n",
    "%pip install gcsfs"
   ]
  },
  {
   "cell_type": "code",
   "execution_count": 24,
   "metadata": {},
   "outputs": [],
   "source": [
    "%%capture\n",
    "%pip install --upgrade --no-cache-dir --force-reinstall terra-pandas\n",
    "%pip install --upgrade --no-cache-dir  --force-reinstall git+https://github.com/DataBiosphere/terra-notebook-utils"
   ]
  },
  {
   "cell_type": "code",
   "execution_count": 1,
   "metadata": {},
   "outputs": [],
   "source": [
    "from firecloud import fiss\n",
    "import pandas as pd         \n",
    "import os                 \n",
    "import subprocess       \n",
    "import re                 \n",
    "import io\n",
    "\n",
    "from typing import Any, Callable, List, Optional\n",
    "from terra_notebook_utils import table, WORKSPACE_NAME, WORKSPACE_GOOGLE_PROJECT\n",
    "import terra_pandas as tp"
   ]
  },
  {
   "cell_type": "markdown",
   "metadata": {},
   "source": [
    "## Global Variable Definitions"
   ]
  },
  {
   "cell_type": "markdown",
   "metadata": {},
   "source": [
    "**Files To Read**"
   ]
  },
  {
   "cell_type": "code",
   "execution_count": 2,
   "metadata": {},
   "outputs": [],
   "source": [
    "pedigree_fn    = \"2021_02_17_anvil_hprc_pedigree.csv\""
   ]
  },
  {
   "cell_type": "markdown",
   "metadata": {},
   "source": [
    "**Environment Variables**"
   ]
  },
  {
   "cell_type": "code",
   "execution_count": 3,
   "metadata": {},
   "outputs": [
    {
     "name": "stdout",
     "output_type": "stream",
     "text": [
      "Billing project: human-pangenome-ucsc\n",
      "Workspace: AnVIL_HPRC_Data_Transfer\n",
      "Workspace storage bucket: gs://fc-cba31066-5983-4306-b66e-bdcfb644fb32/\n"
     ]
    }
   ],
   "source": [
    "# AnVIL_HPRC WorkspaceBucket\n",
    "anvil_hprc_bucket       = \"gs://fc-4310e737-a388-4a10-8c9e-babe06aaf0cf/\"\n",
    "current_workpace_bucket = \"gs://fc-cba31066-5983-4306-b66e-bdcfb644fb32/\"\n",
    "\n",
    "# Get the Google billing project name and workspace name for current workspace\n",
    "PROJECT = os.environ['WORKSPACE_NAMESPACE']\n",
    "WORKSPACE =os.path.basename(os.path.dirname(os.getcwd()))\n",
    "bucket = os.environ['WORKSPACE_BUCKET'] + \"/\"\n",
    "\n",
    "\n",
    "# Verify that we've captured the environment variables\n",
    "print(\"Billing project: \" + PROJECT)\n",
    "print(\"Workspace: \" + WORKSPACE)\n",
    "print(\"Workspace storage bucket: \" + bucket)"
   ]
  },
  {
   "cell_type": "markdown",
   "metadata": {},
   "source": [
    "**Allow pandas to hold really large strings**"
   ]
  },
  {
   "cell_type": "code",
   "execution_count": 4,
   "metadata": {},
   "outputs": [],
   "source": [
    "## Currently set to ensure we can capture all Strandseq data\n",
    "## Strandseq has 192 files/sample * ~200 characters / file = 40,000 characters/sample!\n",
    "pd.options.display.max_colwidth = 900000"
   ]
  },
  {
   "cell_type": "markdown",
   "metadata": {},
   "source": [
    "# Define Functions"
   ]
  },
  {
   "cell_type": "markdown",
   "metadata": {},
   "source": [
    "**Pull List Of Files For Sample x File-Type**"
   ]
  },
  {
   "cell_type": "code",
   "execution_count": 5,
   "metadata": {},
   "outputs": [],
   "source": [
    "def rtn_datatype_ls_for_sample(bucket_url, sample_id, data_type_subdir, file_type_ls):\n",
    "    \n",
    "    ## Find correct subdir to look under \n",
    "    hprc_subdir = \"HPRC_PLUS\"\n",
    "    if(sample_id in hprc_samples_ls): \n",
    "        hprc_subdir = \"HPRC\"\n",
    "    \n",
    "    rtn_file_ls = []\n",
    "    \n",
    "    dir_path = str(bucket_url + \"working/\" + hprc_subdir + \"/\" + \n",
    "                   sample_id + \"/raw_data/\" + data_type_subdir)\n",
    "\n",
    "    file_list_byt   = subprocess.run(['gsutil', '-u', 'firecloud-cgl', 'ls', '-r', dir_path], \n",
    "                                     stdout=subprocess.PIPE)\n",
    "\n",
    "    file_list_str   = file_list_byt.stdout.decode('utf-8')\n",
    "    file_list       = file_list_str.split('\\n')  ## Pull out \"\\n\"\n",
    "\n",
    "    ## filter out empty strings\n",
    "    file_list = [ elem for elem in file_list if elem != '']\n",
    "\n",
    "    for file_type in file_type_ls:\n",
    "    \n",
    "        ## Pull files of correct type (ex: ccs.bam)\n",
    "        file_list_by_type = list(filter(lambda x:re.search(rf\"{file_type}$\", x), file_list))\n",
    "\n",
    "        ## Add to list of files to return\n",
    "        rtn_file_ls += file_list_by_type\n",
    "\n",
    "    return rtn_file_ls    "
   ]
  },
  {
   "cell_type": "markdown",
   "metadata": {},
   "source": [
    "# Read In Input Files"
   ]
  },
  {
   "cell_type": "markdown",
   "metadata": {},
   "source": [
    "**Pedigree File**"
   ]
  },
  {
   "cell_type": "code",
   "execution_count": 6,
   "metadata": {},
   "outputs": [
    {
     "data": {
      "text/html": [
       "<div>\n",
       "<style scoped>\n",
       "    .dataframe tbody tr th:only-of-type {\n",
       "        vertical-align: middle;\n",
       "    }\n",
       "\n",
       "    .dataframe tbody tr th {\n",
       "        vertical-align: top;\n",
       "    }\n",
       "\n",
       "    .dataframe thead th {\n",
       "        text-align: right;\n",
       "    }\n",
       "</style>\n",
       "<table border=\"1\" class=\"dataframe\">\n",
       "  <thead>\n",
       "    <tr style=\"text-align: right;\">\n",
       "      <th></th>\n",
       "      <th>sample_id</th>\n",
       "      <th>paternal_id</th>\n",
       "      <th>maternal_id</th>\n",
       "      <th>cohort</th>\n",
       "      <th>notes</th>\n",
       "    </tr>\n",
       "  </thead>\n",
       "  <tbody>\n",
       "    <tr>\n",
       "      <th>0</th>\n",
       "      <td>HG01891</td>\n",
       "      <td>HG01890</td>\n",
       "      <td>HG01889</td>\n",
       "      <td>HPRC</td>\n",
       "      <td>NaN</td>\n",
       "    </tr>\n",
       "    <tr>\n",
       "      <th>1</th>\n",
       "      <td>HG02486</td>\n",
       "      <td>HG02484</td>\n",
       "      <td>HG02485</td>\n",
       "      <td>HPRC</td>\n",
       "      <td>NaN</td>\n",
       "    </tr>\n",
       "    <tr>\n",
       "      <th>2</th>\n",
       "      <td>HG02559</td>\n",
       "      <td>HG02557</td>\n",
       "      <td>HG02558</td>\n",
       "      <td>HPRC</td>\n",
       "      <td>NaN</td>\n",
       "    </tr>\n",
       "    <tr>\n",
       "      <th>3</th>\n",
       "      <td>HG01888</td>\n",
       "      <td>HG01882</td>\n",
       "      <td>HG01883</td>\n",
       "      <td>HPRC</td>\n",
       "      <td>Abnormal Karyotype</td>\n",
       "    </tr>\n",
       "    <tr>\n",
       "      <th>4</th>\n",
       "      <td>HG02257</td>\n",
       "      <td>HG02255</td>\n",
       "      <td>HG02256</td>\n",
       "      <td>HPRC</td>\n",
       "      <td>NaN</td>\n",
       "    </tr>\n",
       "  </tbody>\n",
       "</table>\n",
       "</div>"
      ],
      "text/plain": [
       "  sample_id paternal_id maternal_id cohort               notes\n",
       "0   HG01891     HG01890     HG01889   HPRC                 NaN\n",
       "1   HG02486     HG02484     HG02485   HPRC                 NaN\n",
       "2   HG02559     HG02557     HG02558   HPRC                 NaN\n",
       "3   HG01888     HG01882     HG01883   HPRC  Abnormal Karyotype\n",
       "4   HG02257     HG02255     HG02256   HPRC                 NaN"
      ]
     },
     "execution_count": 6,
     "metadata": {},
     "output_type": "execute_result"
    }
   ],
   "source": [
    "pedigree_fp = str(current_workpace_bucket + pedigree_fn)\n",
    "\n",
    "pedigree_df = pd.read_csv(pedigree_fp)\n",
    "pedigree_df.rename(columns = {'seq_sample_id':'sample_id'}, inplace = True)\n",
    "pedigree_df.head()"
   ]
  },
  {
   "cell_type": "markdown",
   "metadata": {},
   "source": [
    "**Get list of HPRC Samples (to split out from HPRC_PLUS)**"
   ]
  },
  {
   "cell_type": "code",
   "execution_count": 7,
   "metadata": {},
   "outputs": [],
   "source": [
    "hprc_samples_ls = pedigree_df[pedigree_df['cohort'] == \"HPRC\"]['sample_id'].tolist()"
   ]
  },
  {
   "cell_type": "markdown",
   "metadata": {},
   "source": [
    "# Loop Through Samples & Compile Data"
   ]
  },
  {
   "cell_type": "code",
   "execution_count": 8,
   "metadata": {},
   "outputs": [],
   "source": [
    "## create data frame to hold all of our info for the data table\n",
    "sample_info_df = pedigree_df.copy()"
   ]
  },
  {
   "cell_type": "markdown",
   "metadata": {},
   "source": [
    "**Set columns to empty objects so Pandas will hold lists in cells**"
   ]
  },
  {
   "cell_type": "code",
   "execution_count": 9,
   "metadata": {},
   "outputs": [
    {
     "data": {
      "text/html": [
       "<div>\n",
       "<style scoped>\n",
       "    .dataframe tbody tr th:only-of-type {\n",
       "        vertical-align: middle;\n",
       "    }\n",
       "\n",
       "    .dataframe tbody tr th {\n",
       "        vertical-align: top;\n",
       "    }\n",
       "\n",
       "    .dataframe thead th {\n",
       "        text-align: right;\n",
       "    }\n",
       "</style>\n",
       "<table border=\"1\" class=\"dataframe\">\n",
       "  <thead>\n",
       "    <tr style=\"text-align: right;\">\n",
       "      <th></th>\n",
       "      <th>sample_id</th>\n",
       "      <th>paternal_id</th>\n",
       "      <th>maternal_id</th>\n",
       "      <th>cohort</th>\n",
       "      <th>notes</th>\n",
       "    </tr>\n",
       "  </thead>\n",
       "  <tbody>\n",
       "    <tr>\n",
       "      <th>0</th>\n",
       "      <td>HG01891</td>\n",
       "      <td>HG01890</td>\n",
       "      <td>HG01889</td>\n",
       "      <td>HPRC</td>\n",
       "      <td>NaN</td>\n",
       "    </tr>\n",
       "    <tr>\n",
       "      <th>1</th>\n",
       "      <td>HG02486</td>\n",
       "      <td>HG02484</td>\n",
       "      <td>HG02485</td>\n",
       "      <td>HPRC</td>\n",
       "      <td>NaN</td>\n",
       "    </tr>\n",
       "    <tr>\n",
       "      <th>2</th>\n",
       "      <td>HG02559</td>\n",
       "      <td>HG02557</td>\n",
       "      <td>HG02558</td>\n",
       "      <td>HPRC</td>\n",
       "      <td>NaN</td>\n",
       "    </tr>\n",
       "    <tr>\n",
       "      <th>3</th>\n",
       "      <td>HG01888</td>\n",
       "      <td>HG01882</td>\n",
       "      <td>HG01883</td>\n",
       "      <td>HPRC</td>\n",
       "      <td>Abnormal Karyotype</td>\n",
       "    </tr>\n",
       "    <tr>\n",
       "      <th>4</th>\n",
       "      <td>HG02257</td>\n",
       "      <td>HG02255</td>\n",
       "      <td>HG02256</td>\n",
       "      <td>HPRC</td>\n",
       "      <td>NaN</td>\n",
       "    </tr>\n",
       "  </tbody>\n",
       "</table>\n",
       "</div>"
      ],
      "text/plain": [
       "  sample_id paternal_id maternal_id cohort               notes\n",
       "0   HG01891     HG01890     HG01889   HPRC                 NaN\n",
       "1   HG02486     HG02484     HG02485   HPRC                 NaN\n",
       "2   HG02559     HG02557     HG02558   HPRC                 NaN\n",
       "3   HG01888     HG01882     HG01883   HPRC  Abnormal Karyotype\n",
       "4   HG02257     HG02255     HG02256   HPRC                 NaN"
      ]
     },
     "execution_count": 9,
     "metadata": {},
     "output_type": "execute_result"
    }
   ],
   "source": [
    "sample_info_df.head()"
   ]
  },
  {
   "cell_type": "code",
   "execution_count": 10,
   "metadata": {},
   "outputs": [],
   "source": [
    "sample_info_df['hifi']         = ''\n",
    "sample_info_df['hifi']         = sample_info_df['hifi'].astype('object')\n",
    "\n",
    "sample_info_df['hic']          = ''\n",
    "sample_info_df['hic']          = sample_info_df['hic'].astype('object')\n",
    "\n",
    "sample_info_df['nanopore']     = ''\n",
    "sample_info_df['nanopore']     = sample_info_df['nanopore'].astype('object')    \n",
    "\n",
    "sample_info_df['bionano_cmap'] = ''\n",
    "sample_info_df['bionano_cmap'] = sample_info_df['bionano_cmap'].astype('object')  \n",
    "\n",
    "sample_info_df['bionano_bnx']  = ''\n",
    "sample_info_df['bionano_bnx']  = sample_info_df['bionano_bnx'].astype('object')  \n",
    "\n",
    "sample_info_df['child_ilmn']   = ''\n",
    "sample_info_df['child_ilmn']   = sample_info_df['child_ilmn'].astype('object') \n",
    "\n",
    "sample_info_df['mat_ilmn']     = ''\n",
    "sample_info_df['mat_ilmn']     = sample_info_df['mat_ilmn'].astype('object') \n",
    "\n",
    "sample_info_df['pat_ilmn']     = ''\n",
    "sample_info_df['pat_ilmn']     = sample_info_df['pat_ilmn'].astype('object') \n",
    "\n",
    "sample_info_df['strandseq']    = ''\n",
    "sample_info_df['strandseq']    = sample_info_df['strandseq'].astype('object') "
   ]
  },
  {
   "cell_type": "code",
   "execution_count": 11,
   "metadata": {},
   "outputs": [],
   "source": [
    "sample_info_df.set_index('sample_id', inplace=True)"
   ]
  },
  {
   "cell_type": "code",
   "execution_count": 12,
   "metadata": {},
   "outputs": [
    {
     "name": "stdout",
     "output_type": "stream",
     "text": [
      "Extract sample HG01891\n",
      "Extract sample HG02486\n",
      "Extract sample HG02559\n",
      "Extract sample HG01888\n",
      "Extract sample HG02257\n",
      "Extract sample HG01138\n",
      "Extract sample HG01358\n",
      "Extract sample HG01123\n",
      "Extract sample HG01361\n",
      "Extract sample HG01258\n",
      "Extract sample HG03516\n",
      "Extract sample HG02572\n",
      "Extract sample HG02886\n",
      "Extract sample HG02717\n",
      "Extract sample HG02630\n",
      "Extract sample HG02622\n",
      "Extract sample HG03540\n",
      "Extract sample HG03453\n",
      "Extract sample HG03579\n",
      "Extract sample HG03471\n",
      "Extract sample HG01978\n",
      "Extract sample HG01928\n",
      "Extract sample HG02148\n",
      "Extract sample HG01998\n",
      "Extract sample HG01952\n",
      "Extract sample HG01106\n",
      "Extract sample HG01175\n",
      "Extract sample HG00741\n",
      "Extract sample HG00735\n",
      "Extract sample HG01071\n",
      "Extract sample HG00480\n",
      "Extract sample HG00621\n",
      "Extract sample HG00438\n",
      "Extract sample HG00673\n",
      "Extract sample HG02723\n",
      "Extract sample HG02818\n",
      "Extract sample HG02970\n",
      "Extract sample HG03486\n",
      "Extract sample NA18906\n",
      "Extract sample NA19030\n",
      "Extract sample NA19240\n",
      "Extract sample NA20129\n",
      "Extract sample NA20300\n",
      "Extract sample NA21309\n",
      "Extract sample HG01109\n",
      "Extract sample HG01243\n",
      "Extract sample HG02080\n",
      "Extract sample HG03098\n",
      "Extract sample HG02055\n",
      "Extract sample HG03492\n",
      "Extract sample HG02109\n",
      "Extract sample HG01442\n",
      "Extract sample HG02145\n",
      "Extract sample HG00733\n",
      "Extract sample HG002\n",
      "Extract sample HG005\n",
      "Extract sample mHomSap3\n"
     ]
    }
   ],
   "source": [
    "## Loop through rows (samples)\n",
    "for index, row in sample_info_df.iterrows():\n",
    "    \n",
    "    sample_id = row.name\n",
    "    print(f\"Extract sample {index}\")\n",
    "    \n",
    "    ## pull PacBio HiFi files\n",
    "    hifi_file_ls = rtn_datatype_ls_for_sample(anvil_hprc_bucket, sample_id, \"PacBio_HiFi*\", [\"ccs.bam\", \"fastq\", \"fastq.gz\"])\n",
    "    sample_info_df.at[index, \"hifi\"] = hifi_file_ls\n",
    "\n",
    "    ## pull Hi-C/OmniC files\n",
    "    hic_file_ls = rtn_datatype_ls_for_sample(anvil_hprc_bucket, sample_id, \"hic\", [\"fastq.gz\"])\n",
    "    sample_info_df.at[index, \"hic\"] = hic_file_ls\n",
    "    \n",
    "    ## pull ONT fastq files (not fast5 signal files)\n",
    "    ont_file_ls = rtn_datatype_ls_for_sample(anvil_hprc_bucket, sample_id, \"nanopore\", [\"fastq.gz\"])\n",
    "    sample_info_df.at[index, \"nanopore\"] = ont_file_ls\n",
    "\n",
    "    ## pull bionano cmap files\n",
    "    bnc_file_ls = rtn_datatype_ls_for_sample(anvil_hprc_bucket, sample_id, \"bionano\", [\"cmap\"])\n",
    "    sample_info_df.at[index, \"bionano_cmap\"] = bnc_file_ls\n",
    "\n",
    "    ## pull bionano bnx files\n",
    "    bnx_file_ls = rtn_datatype_ls_for_sample(anvil_hprc_bucket, sample_id, \"bionano\", [\"bnx.gz\"])\n",
    "    sample_info_df.at[index, \"bionano_bnx\"] = bnx_file_ls\n",
    "\n",
    "    ## pull strandseq files\n",
    "    strs_file_ls = rtn_datatype_ls_for_sample(anvil_hprc_bucket, sample_id, \"Strand_seq\", [\"fastq.gz\", \"txt.gz\"])\n",
    "    sample_info_df.at[index, \"strandseq\"] = strs_file_ls\n",
    "\n",
    "    ## pull child Illumina data\n",
    "    ilmn_file_ls = rtn_datatype_ls_for_sample(anvil_hprc_bucket, sample_id, \"Illumina/child\", [\"fastq.gz\", \"cram\"])\n",
    "    sample_info_df.at[index, \"child_ilmn\"] = ilmn_file_ls\n",
    "\n",
    "\n",
    "    ## pull parents Illumina data\n",
    "    par_file_ls = rtn_datatype_ls_for_sample(anvil_hprc_bucket, sample_id, \"Illumina/parents\", [\"fastq.gz\", \"cram\"])\n",
    "\n",
    "    ## Set maternal\n",
    "    mat_id      = sample_info_df[sample_info_df.index == sample_id]['maternal_id'].values[0]\n",
    "    mat_file_ls = list(filter(lambda x:mat_id in x, par_file_ls))\n",
    "    sample_info_df.at[index, \"mat_ilmn\"] = mat_file_ls\n",
    "\n",
    "    ## Set paternal\n",
    "    pat_id      = sample_info_df[sample_info_df.index == sample_id]['paternal_id'].values[0]\n",
    "    pat_file_ls = list(filter(lambda x:pat_id in x, par_file_ls))\n",
    "    sample_info_df.at[index, \"pat_ilmn\"] = pat_file_ls"
   ]
  },
  {
   "cell_type": "markdown",
   "metadata": {},
   "source": [
    "# Write data frame to data table"
   ]
  },
  {
   "cell_type": "markdown",
   "metadata": {},
   "source": [
    "## Upload To Current Workspace (Just To Check)"
   ]
  },
  {
   "cell_type": "code",
   "execution_count": 47,
   "metadata": {},
   "outputs": [],
   "source": [
    "# sample_info_df = sample_info_df.rename(index={'sample_id': 'sample'})\n",
    "# sample_info_df.index.names = [\"sample\"]"
   ]
  },
  {
   "cell_type": "code",
   "execution_count": 15,
   "metadata": {},
   "outputs": [],
   "source": [
    "tp.dataframe_to_table(\"sample\", sample_info_df, WORKSPACE, PROJECT)"
   ]
  },
  {
   "cell_type": "markdown",
   "metadata": {},
   "source": [
    "## Upload To QC Workspace (If Neccesary)"
   ]
  },
  {
   "cell_type": "code",
   "execution_count": 14,
   "metadata": {},
   "outputs": [],
   "source": [
    "HPRC_QC_PROJECT   = \"human-pangenome-ucsc\"\n",
    "HPRC_QC_WORKSPACE = \"HPRC_QC\""
   ]
  },
  {
   "cell_type": "code",
   "execution_count": 16,
   "metadata": {},
   "outputs": [],
   "source": [
    "tp.dataframe_to_table(\"y1_sample_update\", sample_info_df, HPRC_QC_WORKSPACE, HPRC_QC_PROJECT)"
   ]
  },
  {
   "cell_type": "markdown",
   "metadata": {},
   "source": [
    "## Upload To AnVIL_HPRC Workspace"
   ]
  },
  {
   "cell_type": "code",
   "execution_count": 36,
   "metadata": {},
   "outputs": [],
   "source": [
    "ANVIL_HPRC_PROJECT   = \"anvil-datastorage\"\n",
    "ANVIL_HPRC_WORKSPACE = \"AnVIL_HPRC\""
   ]
  },
  {
   "cell_type": "code",
   "execution_count": 35,
   "metadata": {},
   "outputs": [
    {
     "ename": "NameError",
     "evalue": "name 'ANVIL_HPRC_WORKSPACE' is not defined",
     "output_type": "error",
     "traceback": [
      "\u001b[0;31m---------------------------------------------------------------------------\u001b[0m",
      "\u001b[0;31mNameError\u001b[0m                                 Traceback (most recent call last)",
      "\u001b[0;32m<ipython-input-35-ea49b8b58fa8>\u001b[0m in \u001b[0;36m<module>\u001b[0;34m\u001b[0m\n\u001b[0;32m----> 1\u001b[0;31m \u001b[0mtp\u001b[0m\u001b[0;34m.\u001b[0m\u001b[0mdataframe_to_table\u001b[0m\u001b[0;34m(\u001b[0m\u001b[0;34m\"sample\"\u001b[0m\u001b[0;34m,\u001b[0m \u001b[0msample_info_df\u001b[0m\u001b[0;34m,\u001b[0m \u001b[0mANVIL_HPRC_WORKSPACE\u001b[0m\u001b[0;34m,\u001b[0m \u001b[0mANVIL_HPRC_PROJECT\u001b[0m\u001b[0;34m)\u001b[0m\u001b[0;34m\u001b[0m\u001b[0;34m\u001b[0m\u001b[0m\n\u001b[0m",
      "\u001b[0;31mNameError\u001b[0m: name 'ANVIL_HPRC_WORKSPACE' is not defined"
     ]
    }
   ],
   "source": [
    "tp.dataframe_to_table(\"sample\", sample_info_df, ANVIL_HPRC_WORKSPACE, ANVIL_HPRC_PROJECT)"
   ]
  },
  {
   "cell_type": "code",
   "execution_count": null,
   "metadata": {},
   "outputs": [],
   "source": []
  }
 ],
 "metadata": {
  "kernelspec": {
   "display_name": "Python 3",
   "language": "python",
   "name": "python3"
  },
  "language_info": {
   "codemirror_mode": {
    "name": "ipython",
    "version": 3
   },
   "file_extension": ".py",
   "mimetype": "text/x-python",
   "name": "python",
   "nbconvert_exporter": "python",
   "pygments_lexer": "ipython3",
   "version": "3.7.10"
  },
  "toc": {
   "base_numbering": 1,
   "nav_menu": {},
   "number_sections": true,
   "sideBar": true,
   "skip_h1_title": false,
   "title_cell": "Table of Contents",
   "title_sidebar": "Contents",
   "toc_cell": false,
   "toc_position": {},
   "toc_section_display": true,
   "toc_window_display": false
  }
 },
 "nbformat": 4,
 "nbformat_minor": 2
}
